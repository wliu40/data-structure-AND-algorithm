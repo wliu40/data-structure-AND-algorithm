{
 "cells": [
  {
   "cell_type": "code",
   "execution_count": 248,
   "metadata": {
    "collapsed": false
   },
   "outputs": [],
   "source": [
    "class Node:\n",
    "    def __init__(self, data):\n",
    "        self.data = data\n",
    "        self.next = None\n",
    "    def __str__(self):\n",
    "        return str(self.data)\n",
    "class Linklist:\n",
    "    def __init__(self):\n",
    "        self.head = None\n",
    "        \n",
    "    def __str__(self):\n",
    "        assert (type(self.traversal()) == str)\n",
    "        return self.traversal()\n",
    "    def show(self, node):\n",
    "        s = \"\"\n",
    "        while node is not None:\n",
    "            s += str(node.data) + \" \"\n",
    "            node = node.next\n",
    "        return s\n",
    "    def traversal(self):\n",
    "        tmp = self.head\n",
    "        s = \"\"\n",
    "        while tmp is not None:\n",
    "            s += str(tmp.data) + \" \"\n",
    "            tmp = tmp.next        \n",
    "        return s\n",
    "    \n",
    "    def add_to_tail(self, data):\n",
    "        tmp = self.head\n",
    "        if not tmp:\n",
    "            self.head = Node(data)\n",
    "            return\n",
    "        while (tmp.next != None):\n",
    "            tmp = tmp.next\n",
    "        tmp.next = Node(data)\n",
    "        \n",
    "    def add_to_head(self, data):\n",
    "        if not self.head:\n",
    "            self.head = Node(data)\n",
    "            return\n",
    "        new_head = Node(data)\n",
    "        new_head.next = self.head\n",
    "        self.head = new_head\n",
    "        \n",
    "    def get_size(self):\n",
    "        size = 0\n",
    "        tmp = self.head\n",
    "        while tmp != None:\n",
    "            tmp = tmp.next\n",
    "            size += 1\n",
    "        return size\n",
    "    \n",
    "    def get_size_recursive_fun(self, node):\n",
    "        if node is None:\n",
    "            return 0\n",
    "        else:\n",
    "            return 1 + self.get_size_recursive_fun(node.next)\n",
    "    def get_size_rec(self):\n",
    "        return self.get_size_recursive_fun(self.head)\n",
    "    \n",
    "    # suppose the head is at idx 0\n",
    "    def delete_at_idx(self, idx):\n",
    "        pre = self.head\n",
    "        if pre == None:\n",
    "            print (\"Error: List is empty\")\n",
    "            return\n",
    "        if idx > self.get_size()-1:\n",
    "            print (\"Error: idx exceeds boundary\")\n",
    "            return \n",
    "        if idx == 0:\n",
    "            self.head = self.head.next\n",
    "            return\n",
    "        cur = self.head.next\n",
    "        cnt = 1\n",
    "        while cnt < idx:\n",
    "            if(cur == None):\n",
    "                break\n",
    "            pre = pre.next\n",
    "            cur = cur.next\n",
    "            cnt += 1\n",
    "        pre.next = cur.next\n",
    "        \n",
    "    def insert_with_order(self, data):        \n",
    "        if self.head == None or data < self.head.data:\n",
    "            self.add_to_head(data)\n",
    "            return\n",
    "        tmp = self.head\n",
    "        while tmp.next != None and data > tmp.next.data:\n",
    "            tmp = tmp.next\n",
    "        if tmp.next == None:\n",
    "            tmp.next = Node(data)\n",
    "            return\n",
    "        else:\n",
    "            new_node = Node(data)\n",
    "            new_node = tmp.next\n",
    "            tmp.next = Node(data)\n",
    "\n",
    "    def merge_with_other_list(self, list2):\n",
    "        tmp1 = self.head\n",
    "        tmp2 = list2.head\n",
    "        result = Linklist()\n",
    "        while tmp1 and tmp2:\n",
    "            if tmp1.data < tmp2.data:\n",
    "                result.insert_with_order(tmp1.data)\n",
    "                tmp1 = tmp1.next\n",
    "            else:\n",
    "                result.insert_with_order(tmp2.data)\n",
    "                tmp2 = tmp2.next        \n",
    "        while tmp1:\n",
    "            result.insert_with_order(tmp1.data)\n",
    "            tmp1 = tmp1.next\n",
    "        while tmp2:\n",
    "            result.insert_with_order(tmp2.data)\n",
    "            tmp2 = tmp2.next\n",
    "        return result\n",
    "    \n",
    "    def reverse(self):\n",
    "        if self.head is None:\n",
    "            return\n",
    "        prev = self.head\n",
    "        post = self.head.next\n",
    "        prev.next = None\n",
    "        while post!= None:\n",
    "            tmp = post.next    \n",
    "            post.next = prev            \n",
    "            prev = post\n",
    "            post = tmp\n",
    "        self.head = prev\n",
    "        \n",
    "    def find_nth_to_end(self, n):\n",
    "        start = self.head\n",
    "        second = self.head\n",
    "        for i in range(n):\n",
    "            if second == None:\n",
    "                print(\"Error\")\n",
    "                return\n",
    "            else:\n",
    "                second = second.next\n",
    "        while second and second.next:\n",
    "            start = start.next\n",
    "            second = second.next\n",
    "        return start.data        \n",
    "\n"
   ]
  },
  {
   "cell_type": "code",
   "execution_count": 249,
   "metadata": {
    "collapsed": false
   },
   "outputs": [
    {
     "name": "stdout",
     "output_type": "stream",
     "text": [
      "0 1 2 3 4 \n"
     ]
    }
   ],
   "source": [
    "lk = Linklist()\n",
    "for i in range(5):\n",
    "    lk.add_to_tail(i)\n",
    "print (lk)"
   ]
  },
  {
   "cell_type": "code",
   "execution_count": 250,
   "metadata": {
    "collapsed": false
   },
   "outputs": [
    {
     "name": "stdout",
     "output_type": "stream",
     "text": [
      "-1 -2 0 1 2 3 4 \n"
     ]
    }
   ],
   "source": [
    "lk.add_to_head(-2)\n",
    "lk.add_to_head(-1)\n",
    "print (lk)"
   ]
  },
  {
   "cell_type": "code",
   "execution_count": 251,
   "metadata": {
    "collapsed": false
   },
   "outputs": [
    {
     "name": "stdout",
     "output_type": "stream",
     "text": [
      "7\n"
     ]
    }
   ],
   "source": [
    "print (lk.get_size())"
   ]
  },
  {
   "cell_type": "code",
   "execution_count": 252,
   "metadata": {
    "collapsed": false
   },
   "outputs": [
    {
     "name": "stdout",
     "output_type": "stream",
     "text": [
      "-2 0 1 2 3 4 \n",
      "-2 1 2 3 4 \n",
      "Error: idx exceeds boundary\n",
      "-2 1 2 3 4 \n",
      "-2 1 2 3 \n"
     ]
    }
   ],
   "source": [
    "lk.delete_at_idx(0)\n",
    "print (lk)\n",
    "lk.delete_at_idx(1)\n",
    "print (lk)\n",
    "lk.delete_at_idx(10)\n",
    "print (lk)\n",
    "lk.delete_at_idx(4)\n",
    "print (lk)"
   ]
  },
  {
   "cell_type": "code",
   "execution_count": 253,
   "metadata": {
    "collapsed": false
   },
   "outputs": [
    {
     "name": "stdout",
     "output_type": "stream",
     "text": [
      "1 \n",
      "\n",
      "4 \n"
     ]
    }
   ],
   "source": [
    "lk1 = Linklist()\n",
    "lk1.add_to_tail(1)\n",
    "print(lk1)\n",
    "lk1.delete_at_idx(0)\n",
    "print(lk1)\n",
    "for i in [4,6]:\n",
    "    lk1.add_to_tail(i)\n",
    "lk1.delete_at_idx(1)\n",
    "print (lk1)\n"
   ]
  },
  {
   "cell_type": "code",
   "execution_count": 254,
   "metadata": {
    "collapsed": false
   },
   "outputs": [
    {
     "name": "stdout",
     "output_type": "stream",
     "text": [
      "-100 -1 0 1 3 4 6 7 9 100 200 \n"
     ]
    }
   ],
   "source": [
    "lk2 = Linklist()\n",
    "for i in [3,1,4,6,7,0,9,-1,100,200,-100]:\n",
    "    lk2.insert_with_order(i)\n",
    "print (lk2)"
   ]
  },
  {
   "cell_type": "code",
   "execution_count": 255,
   "metadata": {
    "collapsed": false
   },
   "outputs": [
    {
     "name": "stdout",
     "output_type": "stream",
     "text": [
      "-2 1 2 3 \n",
      "-100 -1 0 1 3 4 6 7 9 100 200 \n",
      "-100 -2 -1 0 1 2 3 4 6 7 9 100 200 \n"
     ]
    }
   ],
   "source": [
    "print(lk)\n",
    "print(lk2)\n",
    "print (lk.merge_with_other_list(lk2))"
   ]
  },
  {
   "cell_type": "code",
   "execution_count": 256,
   "metadata": {
    "collapsed": false
   },
   "outputs": [
    {
     "name": "stdout",
     "output_type": "stream",
     "text": [
      "11\n",
      "11\n"
     ]
    }
   ],
   "source": [
    "print (lk2.get_size_rec())\n",
    "print (lk2.get_size())"
   ]
  },
  {
   "cell_type": "code",
   "execution_count": 257,
   "metadata": {
    "collapsed": false
   },
   "outputs": [
    {
     "name": "stdout",
     "output_type": "stream",
     "text": [
      "-100 -1 0 1 3 4 6 7 9 100 200 \n",
      "200 100 9 7 6 4 3 1 0 -1 -100 \n"
     ]
    }
   ],
   "source": [
    "print(lk2)\n",
    "lk2.reverse()\n",
    "print(lk2)"
   ]
  },
  {
   "cell_type": "code",
   "execution_count": 258,
   "metadata": {
    "collapsed": false
   },
   "outputs": [
    {
     "name": "stdout",
     "output_type": "stream",
     "text": [
      "1 2 5 8 0 \n",
      "0th: 0\n",
      "1th: 8\n",
      "2th: 5\n",
      "3th: 2\n",
      "4th: 1\n"
     ]
    }
   ],
   "source": [
    "lk3 = Linklist()\n",
    "for i in [1,2,5,8,0]:\n",
    "    lk3.add_to_tail(i)\n",
    "print(lk3)\n",
    "for i in range(lk3.get_size()):\n",
    "    print (str(i) + \"th: \" + str(lk3.find_nth_to_end(i)))"
   ]
  },
  {
   "cell_type": "code",
   "execution_count": null,
   "metadata": {
    "collapsed": true
   },
   "outputs": [],
   "source": []
  }
 ],
 "metadata": {
  "anaconda-cloud": {},
  "kernelspec": {
   "display_name": "Python [default]",
   "language": "python",
   "name": "python3"
  },
  "language_info": {
   "codemirror_mode": {
    "name": "ipython",
    "version": 3
   },
   "file_extension": ".py",
   "mimetype": "text/x-python",
   "name": "python",
   "nbconvert_exporter": "python",
   "pygments_lexer": "ipython3",
   "version": "3.5.2"
  }
 },
 "nbformat": 4,
 "nbformat_minor": 1
}
